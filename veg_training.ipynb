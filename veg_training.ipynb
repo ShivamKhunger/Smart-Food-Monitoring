{
 "cells": [
  {
   "cell_type": "code",
   "execution_count": 1,
   "id": "c3778bbb",
   "metadata": {},
   "outputs": [
    {
     "name": "stdout",
     "output_type": "stream",
     "text": [
      "Found 7562 validated image filenames belonging to 2 classes.\n",
      "Found 1891 validated image filenames belonging to 2 classes.\n",
      "Epoch 1/10\n",
      "  3/237 [..............................] - ETA: 2:24 - loss: 0.9746 - accuracy: 0.5208"
     ]
    },
    {
     "name": "stderr",
     "output_type": "stream",
     "text": [
      "c:\\Users\\Heena\\.conda\\envs\\btp_venv\\lib\\site-packages\\PIL\\Image.py:1056: UserWarning: Palette images with Transparency expressed in bytes should be converted to RGBA images\n",
      "  warnings.warn(\n"
     ]
    },
    {
     "name": "stdout",
     "output_type": "stream",
     "text": [
      "237/237 [==============================] - ETA: 0s - loss: 0.3048 - accuracy: 0.8729\n",
      "Epoch 1: saving model to vegetable_quality_checkpoint.h5\n"
     ]
    },
    {
     "name": "stderr",
     "output_type": "stream",
     "text": [
      "c:\\Users\\Heena\\.conda\\envs\\btp_venv\\lib\\site-packages\\keras\\src\\engine\\training.py:3000: UserWarning: You are saving your model as an HDF5 file via `model.save()`. This file format is considered legacy. We recommend using instead the native Keras format, e.g. `model.save('my_model.keras')`.\n",
      "  saving_api.save_model(\n"
     ]
    },
    {
     "name": "stdout",
     "output_type": "stream",
     "text": [
      "237/237 [==============================] - 161s 665ms/step - loss: 0.3048 - accuracy: 0.8729 - val_loss: 0.1844 - val_accuracy: 0.9371\n",
      "Epoch 2/10\n",
      "237/237 [==============================] - ETA: 0s - loss: 0.1405 - accuracy: 0.9527\n",
      "Epoch 2: saving model to vegetable_quality_checkpoint.h5\n",
      "237/237 [==============================] - 159s 672ms/step - loss: 0.1405 - accuracy: 0.9527 - val_loss: 0.1353 - val_accuracy: 0.9535\n",
      "Epoch 3/10\n",
      "237/237 [==============================] - ETA: 0s - loss: 0.1033 - accuracy: 0.9680\n",
      "Epoch 3: saving model to vegetable_quality_checkpoint.h5\n",
      "237/237 [==============================] - 159s 670ms/step - loss: 0.1033 - accuracy: 0.9680 - val_loss: 0.1114 - val_accuracy: 0.9630\n",
      "Epoch 4/10\n",
      "237/237 [==============================] - ETA: 0s - loss: 0.0813 - accuracy: 0.9746\n",
      "Epoch 4: saving model to vegetable_quality_checkpoint.h5\n",
      "237/237 [==============================] - 157s 662ms/step - loss: 0.0813 - accuracy: 0.9746 - val_loss: 0.0981 - val_accuracy: 0.9667\n",
      "Epoch 5/10\n",
      "237/237 [==============================] - ETA: 0s - loss: 0.0682 - accuracy: 0.9787\n",
      "Epoch 5: saving model to vegetable_quality_checkpoint.h5\n",
      "237/237 [==============================] - 158s 666ms/step - loss: 0.0682 - accuracy: 0.9787 - val_loss: 0.0868 - val_accuracy: 0.9714\n",
      "Epoch 6/10\n",
      "237/237 [==============================] - ETA: 0s - loss: 0.0572 - accuracy: 0.9825\n",
      "Epoch 6: saving model to vegetable_quality_checkpoint.h5\n",
      "237/237 [==============================] - 157s 661ms/step - loss: 0.0572 - accuracy: 0.9825 - val_loss: 0.0798 - val_accuracy: 0.9741\n",
      "Epoch 7/10\n",
      "237/237 [==============================] - ETA: 0s - loss: 0.0483 - accuracy: 0.9865\n",
      "Epoch 7: saving model to vegetable_quality_checkpoint.h5\n",
      "237/237 [==============================] - 158s 667ms/step - loss: 0.0483 - accuracy: 0.9865 - val_loss: 0.0737 - val_accuracy: 0.9746\n",
      "Epoch 8/10\n",
      "237/237 [==============================] - ETA: 0s - loss: 0.0419 - accuracy: 0.9889\n",
      "Epoch 8: saving model to vegetable_quality_checkpoint.h5\n",
      "237/237 [==============================] - 156s 660ms/step - loss: 0.0419 - accuracy: 0.9889 - val_loss: 0.0717 - val_accuracy: 0.9773\n",
      "Epoch 9/10\n",
      "237/237 [==============================] - ETA: 0s - loss: 0.0363 - accuracy: 0.9909\n",
      "Epoch 9: saving model to vegetable_quality_checkpoint.h5\n",
      "237/237 [==============================] - 310s 1s/step - loss: 0.0363 - accuracy: 0.9909 - val_loss: 0.0660 - val_accuracy: 0.9778\n",
      "Epoch 10/10\n",
      "237/237 [==============================] - ETA: 0s - loss: 0.0322 - accuracy: 0.9923\n",
      "Epoch 10: saving model to vegetable_quality_checkpoint.h5\n",
      "237/237 [==============================] - 301s 1s/step - loss: 0.0322 - accuracy: 0.9923 - val_loss: 0.0680 - val_accuracy: 0.9746\n"
     ]
    },
    {
     "data": {
      "text/plain": [
       "<keras.src.callbacks.History at 0x17e05c71910>"
      ]
     },
     "execution_count": 1,
     "metadata": {},
     "output_type": "execute_result"
    }
   ],
   "source": [
    "import pandas as pd\n",
    "from tensorflow.keras.preprocessing.image import ImageDataGenerator\n",
    "from tensorflow.keras.applications import MobileNetV2\n",
    "from tensorflow.keras.models import Model\n",
    "from tensorflow.keras.layers import Dense, GlobalAveragePooling2D\n",
    "from tensorflow.keras.optimizers import Adam\n",
    "from tensorflow.keras.callbacks import ModelCheckpoint\n",
    "from sklearn.model_selection import train_test_split\n",
    "\n",
    "df = pd.read_csv(\"vegetables_fresh_stale.csv\")\n",
    "df = df[['image_path', 'label']]\n",
    "\n",
    "train_df, val_df = train_test_split(df, test_size=0.2, stratify=df['label'], random_state=42)\n",
    "\n",
    "datagen = ImageDataGenerator(rescale=1./255)\n",
    "\n",
    "train_gen = datagen.flow_from_dataframe(\n",
    "    train_df,\n",
    "    x_col='image_path',\n",
    "    y_col='label',\n",
    "    target_size=(224, 224),\n",
    "    class_mode='categorical',\n",
    "    batch_size=32,\n",
    "    shuffle=True\n",
    ")\n",
    "\n",
    "val_gen = datagen.flow_from_dataframe(\n",
    "    val_df,\n",
    "    x_col='image_path',\n",
    "    y_col='label',\n",
    "    target_size=(224, 224),\n",
    "    class_mode='categorical',\n",
    "    batch_size=32,\n",
    "    shuffle=False\n",
    ")\n",
    "base_model = MobileNetV2(weights='imagenet', include_top=False, input_shape=(224, 224, 3))\n",
    "base_model.trainable = False\n",
    "\n",
    "x = base_model.output\n",
    "x = GlobalAveragePooling2D()(x)\n",
    "x = Dense(64, activation='relu')(x)\n",
    "out = Dense(2, activation='softmax')(x)\n",
    "\n",
    "model = Model(inputs=base_model.input, outputs=out)\n",
    "model.compile(optimizer=Adam(1e-4), loss='categorical_crossentropy', metrics=['accuracy'])\n",
    "\n",
    "checkpoint_cb = ModelCheckpoint(\n",
    "    \"vegetable_quality_checkpoint.h5\",\n",
    "    save_weights_only=False,\n",
    "    save_best_only=False,\n",
    "    save_freq='epoch',\n",
    "    verbose=1\n",
    ")\n",
    "\n",
    "model.fit(\n",
    "    train_gen,\n",
    "    validation_data=val_gen,\n",
    "    epochs=10,\n",
    "    callbacks=[checkpoint_cb]\n",
    ")\n",
    "\n",
    "\n"
   ]
  },
  {
   "cell_type": "code",
   "execution_count": null,
   "id": "78cdbcb9",
   "metadata": {},
   "outputs": [],
   "source": [
    "model.save(\"vegetable_quality_model.keras\")\n"
   ]
  },
  {
   "cell_type": "code",
   "execution_count": 3,
   "id": "9188903c",
   "metadata": {},
   "outputs": [
    {
     "name": "stderr",
     "output_type": "stream",
     "text": [
      "c:\\Users\\Heena\\.conda\\envs\\btp_venv\\lib\\site-packages\\keras\\src\\engine\\training.py:3000: UserWarning: You are saving your model as an HDF5 file via `model.save()`. This file format is considered legacy. We recommend using instead the native Keras format, e.g. `model.save('my_model.keras')`.\n",
      "  saving_api.save_model(\n"
     ]
    }
   ],
   "source": [
    "from tensorflow.keras.models import load_model\n",
    "model = load_model(\"vegetable_quality_model.keras\")\n",
    "model.save(\"vegetable_quality_model.h5\")\n"
   ]
  },
  {
   "cell_type": "code",
   "execution_count": null,
   "id": "80e068e9",
   "metadata": {},
   "outputs": [],
   "source": []
  }
 ],
 "metadata": {
  "kernelspec": {
   "display_name": "btp_venv",
   "language": "python",
   "name": "python3"
  },
  "language_info": {
   "codemirror_mode": {
    "name": "ipython",
    "version": 3
   },
   "file_extension": ".py",
   "mimetype": "text/x-python",
   "name": "python",
   "nbconvert_exporter": "python",
   "pygments_lexer": "ipython3",
   "version": "3.8.20"
  }
 },
 "nbformat": 4,
 "nbformat_minor": 5
}
